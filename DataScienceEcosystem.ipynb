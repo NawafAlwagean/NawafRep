{
 "cells": [
  {
   "cell_type": "markdown",
   "id": "18946823",
   "metadata": {},
   "source": [
    "# Data Science Tools and Ecosystem"
   ]
  },
  {
   "cell_type": "markdown",
   "id": "5195dea9",
   "metadata": {},
   "source": [
    "In this notebook, Data Science Tools and Ecosystem are summarized.\n"
   ]
  },
  {
   "cell_type": "markdown",
   "id": "cee11ec2",
   "metadata": {},
   "source": [
    "Objectives:\n",
    "\n",
    "- List popular languages for Data Science \n",
    "- List commonly used libraries used by Data Scientists\n",
    "- List Data Science Tools\n",
    "    "
   ]
  },
  {
   "cell_type": "markdown",
   "id": "00fad7a8",
   "metadata": {},
   "source": [
    " Some of the popular languages that Data Scientists use are:\n",
    "    \n",
    "1. python\n",
    "2. R \n",
    "3. SQL"
   ]
  },
  {
   "cell_type": "markdown",
   "id": "f2256887",
   "metadata": {},
   "source": [
    "Some of the commonly used libraries used by Data Scientists include:"
   ]
  },
  {
   "cell_type": "markdown",
   "id": "91c4d5fa",
   "metadata": {},
   "source": [
    "1. numpy\n",
    "1. matplot\n",
    "1. pandas"
   ]
  },
  {
   "cell_type": "markdown",
   "id": "d5d3e94d",
   "metadata": {},
   "source": [
    "|Data Science Tools|\n",
    "|------------------|\n",
    "|      MySQL       |\n",
    "|  Apache Airflow  |\n",
    "| Cognos Analytics |\n",
    "\n"
   ]
  },
  {
   "cell_type": "markdown",
   "id": "d0fd4e99",
   "metadata": {},
   "source": [
    "### Below are a few examples of evaluating arithmetic expressions in Python"
   ]
  },
  {
   "cell_type": "code",
   "execution_count": 1,
   "id": "97e05928",
   "metadata": {},
   "outputs": [
    {
     "data": {
      "text/plain": [
       "17"
      ]
     },
     "execution_count": 1,
     "metadata": {},
     "output_type": "execute_result"
    }
   ],
   "source": [
    "# This a simple arithmetic expression to mutiply then add integers\n",
    "\n",
    "(3*4)+5"
   ]
  },
  {
   "cell_type": "code",
   "execution_count": 2,
   "id": "ecbe62f0",
   "metadata": {},
   "outputs": [
    {
     "data": {
      "text/plain": [
       "3.3333333333333335"
      ]
     },
     "execution_count": 2,
     "metadata": {},
     "output_type": "execute_result"
    }
   ],
   "source": [
    "# This will convert 200 minutes to hours by diving by 60\n",
    "\n",
    "200/60"
   ]
  },
  {
   "cell_type": "markdown",
   "id": "f3cab0e5",
   "metadata": {},
   "source": [
    "## Author\n",
    "nawaf alwagean"
   ]
  }
 ],
 "metadata": {
  "kernelspec": {
   "display_name": "Python 3 (ipykernel)",
   "language": "python",
   "name": "python3"
  },
  "language_info": {
   "codemirror_mode": {
    "name": "ipython",
    "version": 3
   },
   "file_extension": ".py",
   "mimetype": "text/x-python",
   "name": "python",
   "nbconvert_exporter": "python",
   "pygments_lexer": "ipython3",
   "version": "3.11.5"
  }
 },
 "nbformat": 4,
 "nbformat_minor": 5
}
